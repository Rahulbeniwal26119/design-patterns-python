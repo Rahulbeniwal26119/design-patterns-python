{
 "cells": [
  {
   "cell_type": "markdown",
   "metadata": {},
   "source": [
    "### Tutorial Link\n",
    "https://medium.com/@rahulbeniwal26119/cloning-concepts-the-shallow-vs-deep-copy-debate-made-easy-963228e0856f"
   ]
  },
  {
   "cell_type": "markdown",
   "metadata": {},
   "source": [
    "#### Shallow Copy: Copy of reference\n",
    "#### Deep Copy: Recursive Copy of value"
   ]
  },
  {
   "cell_type": "code",
   "execution_count": 1,
   "metadata": {},
   "outputs": [
    {
     "name": "stdout",
     "output_type": "stream",
     "text": [
      "139760798347264 139760798347264\n",
      "[12222222222, 2, 3, [10, 2, 3]]\n"
     ]
    }
   ],
   "source": [
    "# EG1 \n",
    "from copy import copy\n",
    "\n",
    "original = [12222222222,2,3, [1,2,3]]\n",
    "shallow = copy(original)\n",
    "\n",
    "print(id(original[3]), id(shallow[3]))\n",
    "# 140141428082560 140141428082560\n",
    "\n",
    "shallow[3][0] = 10\n",
    "\n",
    "print(original)\n",
    "# [12222222222, 2, 3, [10, 2, 3]]"
   ]
  },
  {
   "cell_type": "code",
   "execution_count": 3,
   "metadata": {},
   "outputs": [
    {
     "name": "stdout",
     "output_type": "stream",
     "text": [
      "139760798822416 139760798822416\n",
      "139760798822416 139760875479528\n",
      "[12222222222, 2, 3, [1, 2, 3]]\n"
     ]
    }
   ],
   "source": [
    "# EX 2 \n",
    "from copy import copy\n",
    "\n",
    "original = [12222222222,2,3, [1,2,3]]\n",
    "shallow = copy(original)\n",
    "\n",
    "print(id(original[0]), id(shallow[0]))\n",
    "# 140141480251664 140141480251664\n",
    "\n",
    "shallow[0] = 10\n",
    "\n",
    "print(id(original[0]), id(shallow[0]))\n",
    "# 140141480251664 140141558899176\n",
    "\n",
    "print(original)"
   ]
  },
  {
   "cell_type": "code",
   "execution_count": 4,
   "metadata": {},
   "outputs": [
    {
     "name": "stdout",
     "output_type": "stream",
     "text": [
      "Original:  [12222222222, 2, 3, [1, 2, 3], 4]\n",
      "Shallow:  [12222222222, 2, 3, [1, 2, 3]]\n"
     ]
    }
   ],
   "source": [
    "# EX 3\n",
    "from copy import copy\n",
    "\n",
    "original = [12222222222,2,3, [1,2,3]]\n",
    "shallow = copy(original)\n",
    "\n",
    "original.append(4)\n",
    "\n",
    "print(\"Original: \", original)\n",
    "print(\"Shallow: \", shallow)\n",
    "\n",
    "# Original:  [12222222222, 2, 3, [1, 2, 3], 4]\n",
    "# Shallow:  [12222222222, 2, 3, [1, 2, 3]]"
   ]
  },
  {
   "cell_type": "markdown",
   "metadata": {},
   "source": [
    "#### DeepCopy Example"
   ]
  },
  {
   "cell_type": "code",
   "execution_count": 5,
   "metadata": {},
   "outputs": [
    {
     "name": "stdout",
     "output_type": "stream",
     "text": [
      "139760875479240 139760875479528\n",
      "Original:  [12222222222, 2, 3, [[1, 2, 3, 4], 2, 3]]\n",
      "Shallow:  [12222222222, 2, 3, [[10, 2, 3, 4], 2, 3]]\n"
     ]
    }
   ],
   "source": [
    "from copy import deepcopy\n",
    "\n",
    "original = [12222222222, 2, 3, [[1, 2, 3, 4], 2, 3]]\n",
    "deep = deepcopy(original)\n",
    "\n",
    "deep[3][0][0] = 10\n",
    "\n",
    "print(id(original[3][0][0]), id(deep[3][0][0]))\n",
    "# 140141558898888 140141558899176\n",
    "\n",
    "print(\"Original: \", original)\n",
    "# Original:  [12222222222, 2, 3, [[1, 2, 3, 4], 2, 3]]\n",
    "\n",
    "print(\"Shallow: \", deep)\n",
    "# Shallow:  [12222222222, 2, 3, [[10, 2, 3, 4], 2, 3]]"
   ]
  },
  {
   "cell_type": "code",
   "execution_count": null,
   "metadata": {},
   "outputs": [],
   "source": []
  }
 ],
 "metadata": {
  "kernelspec": {
   "display_name": "3.11_env",
   "language": "python",
   "name": "python3"
  },
  "language_info": {
   "codemirror_mode": {
    "name": "ipython",
    "version": 3
   },
   "file_extension": ".py",
   "mimetype": "text/x-python",
   "name": "python",
   "nbconvert_exporter": "python",
   "pygments_lexer": "ipython3",
   "version": "3.11.1"
  },
  "orig_nbformat": 4
 },
 "nbformat": 4,
 "nbformat_minor": 2
}
