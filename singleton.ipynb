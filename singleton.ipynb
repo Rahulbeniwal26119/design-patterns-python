{
 "cells": [
  {
   "cell_type": "code",
   "execution_count": 31,
   "metadata": {},
   "outputs": [
    {
     "name": "stdout",
     "output_type": "stream",
     "text": [
      "Connection to PostgreSQL DB successful\n",
      "Connection already exists\n",
      "Connection to PostgreSQL DB failed\n",
      "True\n",
      "False\n"
     ]
    }
   ],
   "source": [
    "import psycopg2\n",
    "\n",
    "class PostgresqlDBConnector:\n",
    "    _instances = {}\n",
    "\n",
    "    def __new__(cls, db_name, db_port, db_host, db_user, db_password):\n",
    "        config_key = (db_name, db_port, db_host, db_user, db_password)\n",
    "\n",
    "        if config_key not in cls._instances:\n",
    "            # create new object\n",
    "            instances = super(PostgresqlDBConnector, cls).__new__(cls)\n",
    "            cls._instances[config_key] = instances\n",
    "            instances.__init__(db_name, db_port, db_host, db_user, db_password)\n",
    "            # initialize object attributes\n",
    "        \n",
    "        return cls._instances[config_key]\n",
    "\n",
    "    def __init__(self, db_name, db_port, db_host, db_user, db_password):\n",
    "        self.db_name = db_name\n",
    "        self.db_port = db_port\n",
    "        self.db_host = db_host\n",
    "        self.db_user = db_user\n",
    "        self.db_password = db_password\n",
    "        self.connection = None\n",
    "        self.cursor = None\n",
    "\n",
    "    def connect(self):\n",
    "        if self.connection:\n",
    "            print(\"Connection already exists\")\n",
    "            return self.connection\n",
    "        try:\n",
    "            self.connection = psycopg2.connect(\n",
    "                database=self.db_name,\n",
    "                user=self.db_user,\n",
    "                password=self.db_password,\n",
    "                host=self.db_host,\n",
    "                port=self.db_port\n",
    "            )\n",
    "            self.cursor = self.connection.cursor()\n",
    "            print(\"Connection to PostgreSQL DB successful\")\n",
    "        except: \n",
    "            print(\"Connection to PostgreSQL DB failed\")\n",
    "\n",
    "    def execute_query(self, query):\n",
    "        self.cursor.execute(query)\n",
    "        self.connection.commit()\n",
    "        return self.cursor\n",
    "\n",
    "    def close(self):\n",
    "        self.connection.close()\n",
    "        self.cursor.close()\n",
    "\n",
    "connector = PostgresqlDBConnector(\n",
    "    db_name=\"redis\",\n",
    "    db_port=\"5432\",\n",
    "    db_host=\"localhost\",\n",
    "    db_user=\"rahul\",\n",
    "    db_password=\"rahul111\"\n",
    ")\n",
    "\n",
    "connector2 = PostgresqlDBConnector(\n",
    "    db_name=\"redis\",\n",
    "    db_port=\"5432\",\n",
    "    db_host=\"localhost\",\n",
    "    db_user=\"rahul\",\n",
    "    db_password=\"rahul111\"\n",
    ")\n",
    "\n",
    "connector3 = PostgresqlDBConnector(\n",
    "    db_name=\"redis\",\n",
    "    db_port=\"5432\",\n",
    "    db_host=\"localhost\",\n",
    "    db_user=\"postgresql\",\n",
    "    db_password=\"postresql111\"\n",
    ")\n",
    "\n",
    "connector.connect()\n",
    "connector2.connect()\n",
    "connector3.connect()\n",
    "\n",
    "print(id(connector) == id(connector2)) # True because both are has same config\n",
    "print(id(connector) == id(connector3)) # False because both are has different config"
   ]
  },
  {
   "cell_type": "code",
   "execution_count": 24,
   "metadata": {},
   "outputs": [
    {
     "data": {
      "text/plain": [
       "False"
      ]
     },
     "execution_count": 24,
     "metadata": {},
     "output_type": "execute_result"
    }
   ],
   "source": [
    "connector = PostgresqlDBConnector(\n",
    "    db_name=\"redis\",\n",
    "    db_port=\"5432\",\n",
    "    db_host=\"localhost\",\n",
    "    db_user=\"rahul\",\n",
    "    db_password=\"rahul111\"\n",
    ")\n",
    "\n",
    "connector2 = PostgresqlDBConnector(\n",
    "    db_name=\"redis\",\n",
    "    db_port=\"5432\",\n",
    "    db_host=\"localhost\",\n",
    "    db_user=\"rahul\",\n",
    "    db_password=\"rahul111\"\n",
    ")\n",
    "\n",
    "connector3 = PostgresqlDBConnector(\n",
    "    db_name=\"redis\",\n",
    "    db_port=\"5432\",\n",
    "    db_host=\"localhost\",\n",
    "    db_user=\"test_user\",\n",
    "    db_password=\"rahul111\"\n",
    ")\n",
    "\n",
    "id(connector) == id(connector2) # True because both are has same config\n",
    "id(connector) == id(connector3) # False because both are has different config"
   ]
  },
  {
   "cell_type": "markdown",
   "metadata": {},
   "source": [
    "### Another Example creating a logger class"
   ]
  },
  {
   "cell_type": "code",
   "execution_count": 1,
   "metadata": {},
   "outputs": [],
   "source": [
    "def log_message(msg):\n",
    "    with open(\"filename.log\", \"a\") as log_file:\n",
    "        log_file.write(msg)\n",
    "\n",
    "log_message(\"Hello World\")"
   ]
  },
  {
   "cell_type": "code",
   "execution_count": 2,
   "metadata": {},
   "outputs": [
    {
     "name": "stdout",
     "output_type": "stream",
     "text": [
      "Hello World"
     ]
    }
   ],
   "source": [
    "def write_log(level, message):\n",
    "    with open(\"filename.log\", \"a\") as log_file:\n",
    "        log_file.write(f\"[{level}]: {message}\")\n",
    "\n",
    "def debug(message):\n",
    "    write_log(\"DEBUG\", message)\n",
    "\n",
    "def info(message):\n",
    "    write_log(\"INFO\", message)\n"
   ]
  },
  {
   "cell_type": "code",
   "execution_count": 3,
   "metadata": {},
   "outputs": [],
   "source": [
    "class SingletonObject:\n",
    "    class __SingletonObject:\n",
    "        def __init__(self, file_name):\n",
    "            self.val = None\n",
    "            self.file_name = file_name\n",
    "        \n",
    "        def __str__(self):\n",
    "            return f\"{self:!r} {self.val}\"\n",
    "    \n",
    "    instance = None\n",
    "\n",
    "    def __new__(cls):\n",
    "        if not SingletonObject.instance:\n",
    "            SingletonObject.instance = SingletonObject.__SingletonObject()\n",
    "        return SingletonObject.instance\n",
    "    \n",
    "    def __getattr__(self, name):\n",
    "        return getattr(self.instance, name)\n",
    "\n",
    "    def __setattr__(self, name):\n",
    "        return setattr(self.instance, name)\n",
    "\n",
    "    def __delattr__(self, name):\n",
    "        return delattr(self.instance, name)\n",
    "\n"
   ]
  },
  {
   "cell_type": "code",
   "execution_count": 8,
   "metadata": {},
   "outputs": [
    {
     "name": "stdout",
     "output_type": "stream",
     "text": [
      "Object value 1\n"
     ]
    }
   ],
   "source": [
    "obj1 = SingletonObject()\n",
    "obj2 = SingletonObject()\n",
    "\n",
    "obj1.val = \"Object value 1\"\n",
    "print(obj2.val)"
   ]
  }
 ],
 "metadata": {
  "kernelspec": {
   "display_name": "venv_3.10",
   "language": "python",
   "name": "python3"
  },
  "language_info": {
   "codemirror_mode": {
    "name": "ipython",
    "version": 3
   },
   "file_extension": ".py",
   "mimetype": "text/x-python",
   "name": "python",
   "nbconvert_exporter": "python",
   "pygments_lexer": "ipython3",
   "version": "3.10.9"
  },
  "orig_nbformat": 4
 },
 "nbformat": 4,
 "nbformat_minor": 2
}
